{
 "cells": [
  {
   "cell_type": "markdown",
   "metadata": {},
   "source": [
    "# PARTE 1 PROYECTO LÓGICA: Katas de Python "
   ]
  },
  {
   "cell_type": "markdown",
   "metadata": {},
   "source": [
    "1. Escribe una función que reciba una cadena de texto como parámetro y devuelva un diccionario con las frecuencias de cada letra en la cadena. Los espacios no deben ser considerados."
   ]
  },
  {
   "cell_type": "code",
   "execution_count": 4,
   "metadata": {},
   "outputs": [
    {
     "name": "stdout",
     "output_type": "stream",
     "text": [
      "{'P': 1, 'r': 2, 'u': 1, 'e': 2, 'b': 1, 'a': 2, 'd': 2, 'l': 1, 'i': 3, 'c': 2, 'o': 2, 'n': 1}\n"
     ]
    }
   ],
   "source": [
    "#creamos la función\n",
    "def funcion_cad(cadena_texto):\n",
    "#creamos el diccionario vacío\n",
    "    frecuencia = {}\n",
    "    #hacemos un bucle for para eliminar los espacios en blanco\n",
    "    for letra in cadena_texto.replace(\" \",\"\"):\n",
    "        # Incrementamos el valor si ya existe la letra, si no, la inicializamos en 1\n",
    "        frecuencia[letra] = frecuencia.get(letra,0)+1\n",
    "    return frecuencia\n",
    "#probamos que funcione el bucle y la función y que se cree el diccionario\n",
    "texto=\"Prueba del diccionario\"\n",
    "print(funcion_cad(texto))\n"
   ]
  },
  {
   "cell_type": "markdown",
   "metadata": {},
   "source": [
    "2. Dada una lista de números, obtén una nueva lista con el doble de cada valor. Usa la función map()"
   ]
  },
  {
   "cell_type": "code",
   "execution_count": 5,
   "metadata": {},
   "outputs": [
    {
     "name": "stdout",
     "output_type": "stream",
     "text": [
      "[2, 4, 6, 8, 10, 12, 14, 16]\n"
     ]
    }
   ],
   "source": [
    "#creo la funcion principal donde se hará referencia la lista\n",
    "def doble_valores(lista_numeros):\n",
    "    #con la funcion map podemos aplicar la misma operacion (en este caso multiplicar por 2) a todos los valores de la lista. Además, creamos una funcion lambda, ya que es una función corta \n",
    "    return list(map(lambda numero: numero*2,lista_numeros))\n",
    "#ejemplo de una lista para ver si el programa se ejecuta correctamente\n",
    "print(doble_valores([1,2,3,4,5,6,7,8]))"
   ]
  },
  {
   "cell_type": "markdown",
   "metadata": {},
   "source": [
    "3. Escribe una función que tome una lista de palabras y una palabra objetivo como parámetros. La función debe\n",
    "devolver una lista con todas las palabras de la lista original que contengan la palabra objetivo."
   ]
  },
  {
   "cell_type": "code",
   "execution_count": 338,
   "metadata": {},
   "outputs": [
    {
     "name": "stdout",
     "output_type": "stream",
     "text": [
      "['correr', 'corredor', 'corrido', 'corriendo']\n"
     ]
    }
   ],
   "source": [
    "#creamos la funcion\n",
    "def lista_palabras (lista,objetivo):\n",
    "    #creamos la lista vacía\n",
    "    resultado = []\n",
    "    #un bucle for para añadir solo a la lista aquellas palabras que cumplan el objetivo que digamos\n",
    "    for palabra in lista:\n",
    "        if objetivo in palabra:\n",
    "            #append significa que a la lista de resultados añadamos la palabra si se cumple el objetivo\n",
    "            resultado.append(palabra)\n",
    "    return resultado\n",
    "#lista de palabras junto con su objetivo para comprobar que el programa funciona\n",
    "lista = [\"correr\",\"corredor\",\"corrido\",\"corriendo\",\"carrera\"]\n",
    "objetivo = \"corr\"\n",
    "resultado = lista_palabras(lista,objetivo)\n",
    "print (resultado)\n"
   ]
  },
  {
   "cell_type": "markdown",
   "metadata": {},
   "source": [
    "4. Genera una función que calcule la diferencia entre los valores de dos listas. Usa la función map()"
   ]
  },
  {
   "cell_type": "code",
   "execution_count": 340,
   "metadata": {},
   "outputs": [
    {
     "name": "stdout",
     "output_type": "stream",
     "text": [
      "[0, 0, 0]\n"
     ]
    }
   ],
   "source": [
    "#creamos la función\n",
    "def diferencia_valores(lista1, lista2):\n",
    "    return list(map(lambda l1, l2: l1 - l2, lista1, lista2))\n",
    "\n",
    "# Ejemplo para ver si el programa funciona\n",
    "print(diferencia_valores([5, 15, 25], [5, 15, 25]))\n"
   ]
  },
  {
   "cell_type": "markdown",
   "metadata": {},
   "source": [
    "5. Ecribe una función que tome una lista de números como parámetro y un valor opcional nota_aprobado, que por\n",
    "defecto es 5. La función debe calcular la media de los números en la lista y determinar si la media es mayor o igual\n",
    "que nota aprobado. Si es así, el estado será \"aprobado\", de lo contrario, será \"suspenso\". La función debe devolver\n",
    "una tupla que contenga la media y el estado"
   ]
  },
  {
   "cell_type": "code",
   "execution_count": 341,
   "metadata": {},
   "outputs": [
    {
     "name": "stdout",
     "output_type": "stream",
     "text": [
      "(4.666666666666667, 'suspenso')\n"
     ]
    }
   ],
   "source": [
    "def media(lista_numeros,nota_aprobado = 5):\n",
    "    media_lista = sum(lista_numeros)/len(lista_numeros)\n",
    "    if media_lista >= nota_aprobado:\n",
    "        resultado = \"aprobado\"\n",
    "    else:\n",
    "        resultado = \"suspenso\"\n",
    "    return (media_lista,resultado)\n",
    "print (media([2,3,9]))"
   ]
  },
  {
   "cell_type": "markdown",
   "metadata": {},
   "source": [
    "6. Escribe una función que calcule el factorial de un número de manera recursiva."
   ]
  },
  {
   "cell_type": "code",
   "execution_count": 342,
   "metadata": {},
   "outputs": [
    {
     "name": "stdout",
     "output_type": "stream",
     "text": [
      "5040\n"
     ]
    }
   ],
   "source": [
    "#definimos la funcion\n",
    "def factorial (n):\n",
    "    if n < 0:\n",
    "        raise ValueError(\"El factorial no está definido para números negativos.\")\n",
    "    if n==0 or n==1:\n",
    "        return 1\n",
    "    else:\n",
    "        return n * factorial(n - 1)\n",
    "#ejemplo para comprobar que el programa funcion\n",
    "print (factorial(7))"
   ]
  },
  {
   "cell_type": "markdown",
   "metadata": {},
   "source": [
    "7. Genera una función que convierta una lista de tuplas a una lista de strings. Usa la función map()"
   ]
  },
  {
   "cell_type": "code",
   "execution_count": 343,
   "metadata": {},
   "outputs": [
    {
     "name": "stdout",
     "output_type": "stream",
     "text": [
      "['1 Marta', '2 Pedro', '3 Juan']\n"
     ]
    }
   ],
   "source": [
    "def convertir_tupla(lista_tuplas):\n",
    "    def tupla_string(tupla):\n",
    "        return ''.join(map(str,tupla))\n",
    "    return list(map(tupla_string,lista_tuplas))\n",
    "#ejemplo para ver si las funciones son correctas\n",
    "lista_tuplas = [(1, ' Marta'), (2, ' Pedro'), (3, ' Juan')]\n",
    "print(convertir_tupla(lista_tuplas))\n",
    "    "
   ]
  },
  {
   "cell_type": "markdown",
   "metadata": {},
   "source": [
    "8. Escribe un programa que pida al usuario dos números e intente dividirlos. Si el usuario ingresa un valor no numérico\n",
    "o intenta dividir por cero, maneja esas excepciones de manera adecuada. Asegúrate de mostrar un mensaje\n",
    "indicando si la división fue exitosa o no."
   ]
  },
  {
   "cell_type": "code",
   "execution_count": 344,
   "metadata": {},
   "outputs": [
    {
     "name": "stdout",
     "output_type": "stream",
     "text": [
      "Solo se permiten números enteros positivos\n"
     ]
    }
   ],
   "source": [
    "# Pedimos al usuario dos números\n",
    "primer_numero = input(\"Introduce el primer número: \")\n",
    "segundo_numero = input(\"Introduce el segundo número: \")\n",
    "\n",
    "# Verificamos que ambos inputs sean números enteros positivos\n",
    "if primer_numero.isdigit() and segundo_numero.isdigit():\n",
    "    primer_numero = int(primer_numero)\n",
    "    segundo_numero = int(segundo_numero)\n",
    "\n",
    "    if segundo_numero == 0:\n",
    "        print(\"No se puede dividir entre cero\")\n",
    "    else:\n",
    "        print(f\"Resultado de la división: {primer_numero / segundo_numero}\")\n",
    "else:\n",
    "    print(\"Solo se permiten números enteros positivos\")\n"
   ]
  },
  {
   "cell_type": "markdown",
   "metadata": {},
   "source": [
    "9. Escribe una función que tome una lista de nombres de mascotas como parámetro y devuelva una nueva lista\n",
    "excluyendo ciertas mascotas prohibidas en España. La lista de mascotas a excluir es [\"Mapache\", \"Tigre\"\n",
    ",\"Serpiente Pitón\", \"Cocodrilo\", \"Oso\"].Usa la función filter()"
   ]
  },
  {
   "cell_type": "code",
   "execution_count": 345,
   "metadata": {},
   "outputs": [
    {
     "name": "stdout",
     "output_type": "stream",
     "text": [
      "['Elefante', 'Raton', 'Leon']\n"
     ]
    }
   ],
   "source": [
    "def lista_mascotas(mascotas):\n",
    "    prohibidas_España=[\"Mapache\", \"Tigre\",\"Serpiente Pitón\", \"Cocodrilo\", \"Oso\"]\n",
    "    return list(filter(lambda mascot: mascot not in prohibidas_España,mascotas))\n",
    "print(lista_mascotas([\"Elefante\",\"Serpiente Pitón\",\"Raton\",\"Leon\",\"Mapache\"]))"
   ]
  },
  {
   "cell_type": "markdown",
   "metadata": {},
   "source": [
    "10. Escribe una función que reciba una lista de números y calcule su promedio. Si la lista está vacía, lanza una\n",
    "excepción personalizada y maneja el error adecuadamente."
   ]
  },
  {
   "cell_type": "code",
   "execution_count": 346,
   "metadata": {},
   "outputs": [
    {
     "name": "stdout",
     "output_type": "stream",
     "text": [
      "La lista está vacía, no se puede calcular el promedio\n",
      "None\n",
      "El promedio es: 15.0\n",
      "15.0\n"
     ]
    }
   ],
   "source": [
    "def promedio_numeros(lista_numeros):\n",
    "    if len(lista_numeros)==0:\n",
    "        print (\"La lista está vacía, no se puede calcular el promedio\")\n",
    "        return None\n",
    "    else:\n",
    "        promedio = sum(lista_numeros) / len(lista_numeros)\n",
    "        print(f\"El promedio es: {promedio}\")\n",
    "        return promedio\n",
    "#ejemplo para comprobar que funciona\n",
    "print(promedio_numeros([]))      \n",
    "print(promedio_numeros([10, 20]))\n"
   ]
  },
  {
   "cell_type": "markdown",
   "metadata": {},
   "source": [
    "11. Escribe un programa que pida al usuario que introduzca su edad. Si el usuario ingresa un valor no numérico o un\n",
    "valor fuera del rango esperado (por ejemplo, menor que 0 o mayor que 120), maneja las excepciones\n",
    "adecuadamente."
   ]
  },
  {
   "cell_type": "code",
   "execution_count": 347,
   "metadata": {},
   "outputs": [
    {
     "name": "stdout",
     "output_type": "stream",
     "text": [
      "Error: debes ingresar un valor numérico válido.\n"
     ]
    }
   ],
   "source": [
    "edad_usuario = input(\"Introduce tu edad: \")\n",
    "if edad_usuario.isdigit():\n",
    "    edad_usuario = int(edad_usuario)\n",
    "    if 1 <= edad_usuario <= 120:\n",
    "        print(f\"La edad del usuario es: {edad_usuario}\")\n",
    "    else:\n",
    "        print(\"El valor está fuera del rango esperado entre 1-120\")\n",
    "else:\n",
    "    print(\"Error: debes ingresar un valor numérico válido.\")"
   ]
  },
  {
   "cell_type": "markdown",
   "metadata": {},
   "source": [
    "12. Genera una función que al recibir una frase devuelva una lista con la longitud de cada palabra. Usa la función map()"
   ]
  },
  {
   "cell_type": "code",
   "execution_count": 348,
   "metadata": {},
   "outputs": [
    {
     "name": "stdout",
     "output_type": "stream",
     "text": [
      "[9, 3, 2, 9, 8, 13]\n"
     ]
    }
   ],
   "source": [
    "def longitudes(frase):\n",
    "    #usamos el .split para separar cada palabra de la frase\n",
    "    palabras = frase.split()\n",
    "    longitud_palabras=list(map(len,palabras))\n",
    "    return longitud_palabras\n",
    "frase=\"Comprobar que el ejercicio funcione correctamente\"\n",
    "print(longitudes(frase))"
   ]
  },
  {
   "cell_type": "markdown",
   "metadata": {},
   "source": [
    "13. Genera una función la cual, para un conjunto de caracteres, devuelva una lista de tuplas con cada letra en\n",
    "mayúsculas y minúsculas. Las letras no pueden estar repetidas .Usa la función map()"
   ]
  },
  {
   "cell_type": "code",
   "execution_count": 349,
   "metadata": {},
   "outputs": [
    {
     "name": "stdout",
     "output_type": "stream",
     "text": [
      "[('E', 'e'), ('A', 'a'), ('N', 'n'), ('I', 'i'), ('T', 't'), ('L', 'l'), ('U', 'u'), ('O', 'o'), ('B', 'b')]\n"
     ]
    }
   ],
   "source": [
    "#creamos la función\n",
    "def letras(caracteres):\n",
    "    #queremos una lista (usamos list), cada letra en mayuscula y minúscula (.upper,.lower); el comando set() se utilizará para no repetir letras\n",
    "    return list(map(lambda letras: (letras.upper(),letras.lower()), filter(str.isalpha, set(caracteres))))\n",
    "    #función str.isalpha() verifica si una cadena está compuesta únicamente por letras, y si no hay espacios, números u otros símbolos\n",
    "print(letras(\"Abuelo Antonio\"))\n"
   ]
  },
  {
   "cell_type": "markdown",
   "metadata": {},
   "source": [
    "14. Crea una función que retorne las palabras de una lista de palabras que comience con una letra en especifico. Usa la\n",
    "función filter()"
   ]
  },
  {
   "cell_type": "code",
   "execution_count": 434,
   "metadata": {},
   "outputs": [
    {
     "name": "stdout",
     "output_type": "stream",
     "text": [
      "['perro', 'pato', 'pony']\n"
     ]
    }
   ],
   "source": [
    "#creamos la funcion\n",
    "def retorno_palabras_especificas(lista_palabras, letra):\n",
    "    #usamos filter() para filtrar por aquellas palabras que su primera letra comience con la letra deseada\n",
    "    #ponemos palabra[0] para coger la primera letra de cada palabra, y filtrar a partir de ahi\n",
    "    return list(filter(lambda palabra: palabra[0].lower()==letra.lower(), lista_palabras))\n",
    "lista=[\"perro\",\"gato\",\"pato\",\"serpiente\",\"elefante\",\"pony\"]\n",
    "letra=\"p\"\n",
    "print(retorno_palabras_especificas(lista,letra))"
   ]
  },
  {
   "cell_type": "markdown",
   "metadata": {},
   "source": [
    "15. Crea una función lambda que sume 3 a cada número de una lista dada."
   ]
  },
  {
   "cell_type": "code",
   "execution_count": 435,
   "metadata": {},
   "outputs": [
    {
     "name": "stdout",
     "output_type": "stream",
     "text": [
      "[4, 5, 6, 7, 8]\n"
     ]
    }
   ],
   "source": [
    "def numeros_suma3(lista_numeros):\n",
    "    return list(map(lambda numeros: numeros+3, lista_numeros))\n",
    "\n",
    "numeros_listados=[1,2,3,4,5]\n",
    "print(numeros_suma3(numeros_listados))"
   ]
  },
  {
   "cell_type": "markdown",
   "metadata": {},
   "source": [
    "16. Escribe una función que tome una cadena de texto y un número entero n como parámetros y devuelva una lista de\n",
    "todas las palabras que sean más largas que n. Usa la función filter()"
   ]
  },
  {
   "cell_type": "code",
   "execution_count": 436,
   "metadata": {},
   "outputs": [
    {
     "name": "stdout",
     "output_type": "stream",
     "text": [
      "['Frase', 'hacer', 'prueba']\n"
     ]
    }
   ],
   "source": [
    "def frase(cadena_texto,n):\n",
    "    return list(filter(lambda palabra: len(palabra)>n, cadena_texto.split()))\n",
    "    #.split() lo utilizo para dividir la cadena de palabras\n",
    "\n",
    "cadena=\"Frase para hacer una prueba\"\n",
    "n=4\n",
    "print(frase(cadena,n))\n"
   ]
  },
  {
   "cell_type": "markdown",
   "metadata": {},
   "source": [
    "17. Crea una función que tome una lista de dígitos y devuelva el número correspondiente. Por ejemplo, [5,7,2]\n",
    "corresponde al número quinientos setenta y dos (572). Usa la función reduce()"
   ]
  },
  {
   "cell_type": "code",
   "execution_count": 437,
   "metadata": {},
   "outputs": [
    {
     "name": "stdout",
     "output_type": "stream",
     "text": [
      "814\n"
     ]
    }
   ],
   "source": [
    "#Importamos la función reduce \n",
    "from functools import reduce\n",
    "\n",
    "def lista_digitos(digitos):\n",
    "    return reduce(lambda total,digito: total * 10 + digito, digitos)\n",
    "    #la operacióm sería el número (8) que multiplicamos por 10 (80) y se suma al siguiente número (1) siento 81 y asi con el siguiente\n",
    "digitos=[8 , 1 , 4]\n",
    "print(lista_digitos(digitos))"
   ]
  },
  {
   "cell_type": "markdown",
   "metadata": {},
   "source": [
    "18. Escribe un programa en Python que cree una lista de diccionarios que contenga información de estudiantes\n",
    "(nombre, edad, calificación) y use la función filter para extraer a los estudiantes con una calificación mayor o igual a\n"
   ]
  },
  {
   "cell_type": "code",
   "execution_count": 438,
   "metadata": {},
   "outputs": [
    {
     "name": "stdout",
     "output_type": "stream",
     "text": [
      "{'nombre': 'Luis', 'edad': 22, 'calificacion': 6}\n",
      "{'nombre': 'María', 'edad': 19, 'calificacion': 9}\n",
      "{'nombre': 'Pedro', 'edad': 21, 'calificacion': 5}\n"
     ]
    }
   ],
   "source": [
    "def estudiantes_calificación_mayor(estudiantes,calificacion_minima):\n",
    "    return list(filter(lambda estudiante: estudiante[\"calificacion\"]>=calificacion_minima,estudiantes))\n",
    "#lista de diccionarios\n",
    "estudiantes = [\n",
    "    {\"nombre\": \"Ana\", \"edad\": 20, \"calificacion\": 3},\n",
    "    {\"nombre\": \"Luis\", \"edad\": 22, \"calificacion\": 6},\n",
    "    {\"nombre\": \"María\", \"edad\": 19, \"calificacion\": 9},\n",
    "    {\"nombre\": \"Pedro\", \"edad\": 21, \"calificacion\": 5},\n",
    "    {\"nombre\": \"Sofía\", \"edad\": 23, \"calificacion\": 2}\n",
    "]\n",
    "#calificacion minima \n",
    "calificacion_minima=5\n",
    "aprobados=estudiantes_calificación_mayor(estudiantes,calificacion_minima)\n",
    "for estudiante in aprobados:\n",
    "    print(estudiante)\n",
    "\n"
   ]
  },
  {
   "cell_type": "markdown",
   "metadata": {},
   "source": [
    "19. Crea una función lambda que filtre los números impares de una lista dada."
   ]
  },
  {
   "cell_type": "code",
   "execution_count": 439,
   "metadata": {},
   "outputs": [
    {
     "name": "stdout",
     "output_type": "stream",
     "text": [
      "[1, 3, 5, 7, 9]\n"
     ]
    }
   ],
   "source": [
    "#MANERA 1: creando dos funciones lambda\n",
    "funcion_n_impares=lambda lista: list(filter(lambda numero: numero%2 !=0,lista))\n",
    "lista_numeros = [1, 2, 3, 4, 5, 6, 7, 8, 9]\n",
    "resultado = funcion_n_impares(lista_numeros)\n",
    "print(resultado)"
   ]
  },
  {
   "cell_type": "code",
   "execution_count": 440,
   "metadata": {},
   "outputs": [
    {
     "name": "stdout",
     "output_type": "stream",
     "text": [
      "[1, 3, 5]\n"
     ]
    }
   ],
   "source": [
    "#MANERA 2: definiendo una función, por si a lo largo del código queremos volver a filtrar por numeros impares\n",
    "#dentro de la función def, creamos una función lambda(reducida)\n",
    "def funcion_n_impares(lista):\n",
    "    return list(filter(lambda numero: numero%2 !=0,lista))\n",
    "lista_numeros=[1,2,3,4,5,6]\n",
    "resultado=funcion_n_impares(lista_numeros)\n",
    "print(resultado)"
   ]
  },
  {
   "cell_type": "markdown",
   "metadata": {},
   "source": [
    "20. Para una lista con elementos tipo integer y string obtén una nueva lista sólo con los valores int. Usa la función\n",
    "filter()"
   ]
  },
  {
   "cell_type": "code",
   "execution_count": 441,
   "metadata": {},
   "outputs": [
    {
     "name": "stdout",
     "output_type": "stream",
     "text": [
      "[1, 42, 100]\n"
     ]
    }
   ],
   "source": [
    "def enteros(lista):\n",
    "    #elementos integer son aquellos que son enteros y los string son cadenas de texto\n",
    "    #con la funcion isinstance podemos comprobar si un elemento es de tipo int(numero entero) y nos devuelve True y False\n",
    "    #en la funcion lambda lo que hacemos es que comprobamos si es int con isinstance y luego si es true son los que añadimos en lista\n",
    "    return list(filter(lambda numero: isinstance(numero,int),lista))\n",
    "\n",
    "lista_varios_tipos=[1, \"hola\", 3.14, 42, \"mundo\", 100]\n",
    "resultado=enteros(lista_varios_tipos)\n",
    "print(resultado)"
   ]
  },
  {
   "cell_type": "markdown",
   "metadata": {},
   "source": [
    "21. Crea una función que calcule el cubo de un número dado mediante una función lambda"
   ]
  },
  {
   "cell_type": "code",
   "execution_count": 442,
   "metadata": {},
   "outputs": [
    {
     "name": "stdout",
     "output_type": "stream",
     "text": [
      "[1, 8, 27, 64]\n"
     ]
    }
   ],
   "source": [
    "def cubo_numeros(lista_numeros):\n",
    "    return list(map(lambda numero: numero**3,lista_numeros))\n",
    "lista=[1,2,3,4]\n",
    "resultado=cubo_numeros(lista)\n",
    "print(resultado)\n"
   ]
  },
  {
   "cell_type": "markdown",
   "metadata": {},
   "source": [
    "22. Dada una lista numérica, obtén el producto total de los valores de dicha lista.Usa la función reduce()."
   ]
  },
  {
   "cell_type": "code",
   "execution_count": 443,
   "metadata": {},
   "outputs": [
    {
     "name": "stdout",
     "output_type": "stream",
     "text": [
      "El producto total de los valores en la lista es: 5040\n"
     ]
    }
   ],
   "source": [
    "def producto_total(lista_numeros):\n",
    "    return reduce(lambda x , y: x * y,lista_numeros)\n",
    "lista=[1,2,3,4,5,6,7]\n",
    "resultado=producto_total(lista)\n",
    "print(f\"El producto total de los valores en la lista es: {resultado}\")"
   ]
  },
  {
   "cell_type": "markdown",
   "metadata": {},
   "source": [
    "23. Concatena una lista de palabras.Usa la función reduce()."
   ]
  },
  {
   "cell_type": "code",
   "execution_count": 444,
   "metadata": {},
   "outputs": [
    {
     "name": "stdout",
     "output_type": "stream",
     "text": [
      "La frase concatenada que obtenemos es: 'Esto es una prueba para ver si funciona'\n"
     ]
    }
   ],
   "source": [
    "def concatenar_palabras(lista_palabras):\n",
    "    return reduce(lambda palabra1,palabra2: palabra1+\" \"+palabra2,lista_palabras)\n",
    "palabras=[\"Esto\",\"es\",\"una\",\"prueba\",\"para\",\"ver\",\"si\",\"funciona\"]\n",
    "resultado=concatenar_palabras(palabras)\n",
    "print(f\"La frase concatenada que obtenemos es: '{resultado}'\")"
   ]
  },
  {
   "cell_type": "markdown",
   "metadata": {},
   "source": [
    "24. Calcula la diferencia total en los valores de una lista. Usa la función reduce()."
   ]
  },
  {
   "cell_type": "code",
   "execution_count": 445,
   "metadata": {},
   "outputs": [
    {
     "name": "stdout",
     "output_type": "stream",
     "text": [
      "5\n"
     ]
    }
   ],
   "source": [
    "def diferencia_total(lista_numeros):\n",
    "    return reduce(lambda x,y: x-y,lista_numeros)\n",
    "lista=[10,2,3]\n",
    "resultado=diferencia_total(lista)\n",
    "print(resultado)"
   ]
  },
  {
   "cell_type": "markdown",
   "metadata": {},
   "source": [
    "25. Crea una función que cuente el número de caracteres en una cadena de texto dada."
   ]
  },
  {
   "cell_type": "code",
   "execution_count": 446,
   "metadata": {},
   "outputs": [
    {
     "name": "stdout",
     "output_type": "stream",
     "text": [
      "4\n"
     ]
    }
   ],
   "source": [
    "def contar_letras(palabra_para_contar):\n",
    "    return len(palabra_para_contar)\n",
    "frase=\"Rosa\"\n",
    "resultado=contar_letras(frase)\n",
    "print(resultado)"
   ]
  },
  {
   "cell_type": "markdown",
   "metadata": {},
   "source": [
    "26. Crea una función lambda que calcule el resto de la división entre dos números dados."
   ]
  },
  {
   "cell_type": "code",
   "execution_count": 447,
   "metadata": {},
   "outputs": [
    {
     "name": "stdout",
     "output_type": "stream",
     "text": [
      "El resto de dividir 10 entre 3 es: 1\n"
     ]
    }
   ],
   "source": [
    "resto_division= lambda numero1,numero2: numero1%numero2\n",
    "numero1=10\n",
    "numero2=3\n",
    "resto=resto_division(numero1,numero2)\n",
    "print(f\"El resto de dividir {numero1} entre {numero2} es: {resto}\")"
   ]
  },
  {
   "cell_type": "markdown",
   "metadata": {},
   "source": [
    "27. Crea una función que calcule el promedio de una lista de números."
   ]
  },
  {
   "cell_type": "code",
   "execution_count": 448,
   "metadata": {},
   "outputs": [
    {
     "name": "stdout",
     "output_type": "stream",
     "text": [
      "El promedio de la lista de numeros es: 6.333333333333333\n"
     ]
    }
   ],
   "source": [
    "def promedio(lista):\n",
    "    #la lista no puede estar vacia, ya que no se puede dividir entre 0\n",
    "    if not lista:\n",
    "        return 0\n",
    "    return sum(lista)/len(lista)\n",
    "numeros=[9,3,7]\n",
    "resultado=promedio(numeros)\n",
    "print(f\"El promedio de la lista de numeros es: {resultado}\")\n"
   ]
  },
  {
   "cell_type": "markdown",
   "metadata": {},
   "source": [
    "28. Crea una función que busque y devuelva el primer elemento duplicado en una lista dada."
   ]
  },
  {
   "cell_type": "code",
   "execution_count": 449,
   "metadata": {},
   "outputs": [
    {
     "name": "stdout",
     "output_type": "stream",
     "text": [
      "2\n",
      "None\n"
     ]
    }
   ],
   "source": [
    "def primer_duplicado(lista):\n",
    "    # usamos ser (elementos desordenados y no repetidos)\n",
    "    elementos_vistos = set()\n",
    "    for elemento in lista:\n",
    "        if elemento in elementos_vistos:\n",
    "            return elemento\n",
    "        #  Lo agregamos al conjunto si no está\n",
    "        elementos_vistos.add(elemento)\n",
    "    return None\n",
    "\n",
    "# Ejemplo \n",
    "lista1 = [1, 2, 3, 4, 2, 5, 6]  \n",
    "lista2 = [7, 8, 9, 10, 11]       \n",
    "print(primer_duplicado(lista1))  \n",
    "print(primer_duplicado(lista2))  \n"
   ]
  },
  {
   "cell_type": "markdown",
   "metadata": {},
   "source": [
    "29. Crea una función que convierta una variable en una cadena de texto y enmascare todos los caracteres con el\n",
    "carácter '#', excepto los últimos cuatro."
   ]
  },
  {
   "cell_type": "code",
   "execution_count": 450,
   "metadata": {},
   "outputs": [
    {
     "name": "stdout",
     "output_type": "stream",
     "text": [
      "#####650A\n"
     ]
    }
   ],
   "source": [
    "def enmascarar_caracteres(variable):\n",
    "    texto=str(variable)\n",
    "    if len(texto)<=4:\n",
    "        return texto\n",
    "    return \"#\" * (len(texto)-4) + texto [-4:]\n",
    "print(enmascarar_caracteres(\"03245650A\"))\n"
   ]
  },
  {
   "cell_type": "markdown",
   "metadata": {},
   "source": [
    "30. Crea una función que determine si dos palabras son anagramas, es decir, si están formadas por las mismas letras\n",
    "pero en diferente orden. "
   ]
  },
  {
   "cell_type": "code",
   "execution_count": 29,
   "metadata": {},
   "outputs": [
    {
     "name": "stdout",
     "output_type": "stream",
     "text": [
      "True\n"
     ]
    }
   ],
   "source": [
    "def anagramas(palabra1,palabra2):\n",
    "    #ponemos las palabras en minuscula para que no interfieran las mayusculas en la comparacion de las dos palabras\n",
    "    palabra1=palabra1.lower()\n",
    "    palabra2=palabra2.lower()\n",
    "    #usamos la funcion sorted() ya que ordena las letras de las palabras en orden alfabetico\n",
    "    return sorted(palabra1)==sorted(palabra2)\n",
    "#ejemplo\n",
    "print(anagramas(\"roma\", \"amor\"))  \n"
   ]
  },
  {
   "cell_type": "markdown",
   "metadata": {},
   "source": [
    "31. Crea una función que solicite al usuario ingresar una lista de nombres y luego solicite un nombre para buscar en\n",
    "esa lista. Si el nombre está en la lista, se imprime un mensaje indicando que fue encontrado, de lo contrario, se\n",
    "lanza una excepción."
   ]
  },
  {
   "cell_type": "code",
   "execution_count": 30,
   "metadata": {},
   "outputs": [
    {
     "name": "stdout",
     "output_type": "stream",
     "text": [
      "El nombre Rosa está en la lista\n"
     ]
    }
   ],
   "source": [
    "def buscar_lista(lista_nombres,nombre):\n",
    "    if nombre in lista_nombres:\n",
    "        print(f\"El nombre {nombre} está en la lista\")\n",
    "    else:\n",
    "        print(f\"El nombre {nombre} no se encuentra en la lista\")\n",
    "\n",
    "lista_nombres=[\"María\",\"Rosa\",\"Clara\"]\n",
    "buscar_lista(lista_nombres,\"Rosa\")\n"
   ]
  },
  {
   "cell_type": "markdown",
   "metadata": {},
   "source": [
    "32. Crea una función que tome un nombre completo y una lista de empleados, busque el nombre completo en la lista y\n",
    "devuelve el puesto del empleado si está en la lista, de lo contrario, devuelve un mensaje indicando que la persona\n",
    "no trabaja aquí."
   ]
  },
  {
   "cell_type": "code",
   "execution_count": 31,
   "metadata": {},
   "outputs": [
    {
     "name": "stdout",
     "output_type": "stream",
     "text": [
      "Elena Fernández trabaja aquí como Diseñadora Gráfica\n"
     ]
    }
   ],
   "source": [
    "def buscar_puesto(lista_empleados,nombre):\n",
    "    if nombre in lista_empleados:\n",
    "        return f\"{nombre} trabaja aquí como {lista_empleados[nombre]}\"\n",
    "    else:\n",
    "        return f\"{nombre} no trabaja aquí\"\n",
    "    \n",
    "empleados = {\n",
    "    \"Ana Pérez\": \"Ingeniera de Software\",\n",
    "    \"Carlos Gómez\": \"Gerente de Ventas\",\n",
    "    \"Elena Fernández\": \"Diseñadora Gráfica\",\n",
    "    \"María López\": \"Analista de Datos\",\n",
    "    \"Pedro Ramírez\": \"Desarrollador Web\"\n",
    "}\n",
    "print(buscar_puesto(empleados, \"Elena Fernández\"))"
   ]
  },
  {
   "cell_type": "markdown",
   "metadata": {},
   "source": [
    "33. Crea una función lambda que sume elementos correspondientes de dos listas dadas."
   ]
  },
  {
   "cell_type": "code",
   "execution_count": 32,
   "metadata": {},
   "outputs": [
    {
     "name": "stdout",
     "output_type": "stream",
     "text": [
      "[11, 22, 33, 44, 55]\n"
     ]
    }
   ],
   "source": [
    "def suma_listas(lista1,lista2):\n",
    "    return list(map(lambda lista1,lista2: lista1+lista2, lista1,lista2))\n",
    "\n",
    "lista1 = [1, 2, 3, 4, 5]\n",
    "lista2 = [10, 20, 30, 40, 50]\n",
    "print(suma_listas(lista1,lista2))"
   ]
  },
  {
   "cell_type": "markdown",
   "metadata": {},
   "source": [
    "34. Crea la clase Arbol , define un árbol genérico con un tronco y ramas como atributos. Los métodos disponibles son:\n",
    "crecer_tronco , nueva_rama , crecer_ramas , quitarrama e info__arbol . El objetivo es implementar estos métodos para manipular la estructura del árbol.\n",
    "Código a seguir:\n",
    "·Inicializar un árbol con un tronco de longitud 1 y una lista vacía de ramas.\n",
    "·Implementar el método crecer_tronco para aumentar la longitud del tronco en una unidad.\n",
    "·Implementar el método nueva_rama para agregar una nueva rama de longitud 1 a la lista de ramas.\n",
    "·Implementar el método crecer_ramas para aumentar en una unidad la longitud de todas las ramas existentes.\n",
    "·Implementar el método quitar_rama para eliminar una rama en una posición específica."
   ]
  },
  {
   "cell_type": "code",
   "execution_count": 33,
   "metadata": {},
   "outputs": [
    {
     "name": "stdout",
     "output_type": "stream",
     "text": [
      "Tronco: 1, Ramas: []\n",
      "El tronco ha crecido. Nueva longitud: 2\n",
      "Se ha añadido una nueva rama. Total de ramas: 1\n",
      "Se ha añadido una nueva rama. Total de ramas: 2\n",
      "Todas las ramas han crecido en 1 unidad. Estado de ramas: [2, 2]\n",
      "Se ha eliminado la rama en la posición 0. Total de ramas: 1\n",
      "Tronco: 2, Ramas: [2]\n"
     ]
    }
   ],
   "source": [
    "class Arbol:\n",
    "    def __init__(self):\n",
    "        \"\"\"Inicializa un árbol con un tronco de longitud 1 y una lista vacía de ramas\"\"\"\n",
    "        self.tronco = 1\n",
    "        self.ramas = []\n",
    "\n",
    "    def crecer_tronco(self):\n",
    "        \"\"\"Aumenta la longitud del tronco en una unidad\"\"\"\n",
    "        self.tronco += 1\n",
    "        print(f\"El tronco ha crecido. Nueva longitud: {self.tronco}\")\n",
    "\n",
    "    def nueva_rama(self):\n",
    "        \"\"\"Agrega una nueva rama de longitud 1 a la lista de ramas\"\"\"\n",
    "        self.ramas.append(1)\n",
    "        print(f\"Se ha añadido una nueva rama. Total de ramas: {len(self.ramas)}\")\n",
    "\n",
    "    def crecer_ramas(self):\n",
    "        \"\"\"Aumenta en una unidad la longitud de todas las ramas existentes\"\"\"\n",
    "        self.ramas = [rama + 1 for rama in self.ramas]\n",
    "        print(f\"Todas las ramas han crecido en 1 unidad. Estado de ramas: {self.ramas}\")\n",
    "\n",
    "    def quitar_rama(self, posicion):\n",
    "        \"\"\"Elimina una rama en una posición específica si existe\"\"\"\n",
    "        if 0 <= posicion < len(self.ramas):\n",
    "            self.ramas.pop(posicion)\n",
    "            print(f\"Se ha eliminado la rama en la posición {posicion}. Total de ramas: {len(self.ramas)}\")\n",
    "        else:\n",
    "            print(\"Error: La posición especificada no es válida.\")\n",
    "\n",
    "    def info_arbol(self):\n",
    "        \"\"\"Devuelve información sobre el árbol\"\"\"\n",
    "        return f\"Tronco: {self.tronco}, Ramas: {self.ramas}\"\n",
    "\n",
    "arbol = Arbol()\n",
    "print(arbol.info_arbol()) \n",
    "\n",
    "arbol.crecer_tronco()\n",
    "arbol.nueva_rama()\n",
    "arbol.nueva_rama()\n",
    "arbol.crecer_ramas()\n",
    "arbol.quitar_rama(0)\n",
    "\n",
    "print(arbol.info_arbol())  # Estado final\n"
   ]
  },
  {
   "cell_type": "markdown",
   "metadata": {},
   "source": [
    "36. Crea la clase UsuarioBanco ,representa a un usuario de un banco con su nombre, saldo y si tiene o no cuenta\n",
    "corriente. Proporciona métodos para realizar operaciones como retirar dinero, transferir dinero desde otro usuario y\n",
    "agregar dinero al saldo.\n",
    "Código a seguir:\n",
    "    1. Inicializar un usuario con su nombre, saldo y si tiene o no cuenta corriente mediante True y False. \n",
    "    2. Agregar 20 unidades de saldo de \"Bob\"\n",
    "    3. Hacer una transferencia de 80 unidades desde \"Bob\" a \"Alicia\".\n",
    "    4. Retirar 50 unidades de saldo a \"Alicia\".2. Implementar el método retirar_dinero para retirar dinero del saldo del usuario. Lanzará un error en caso de no\n",
    "poder hacerse.\n",
    "    3. Implementar el método transferir_dinero para realizar una transferencia desde otro usuario al usuario actual.\n",
    "Lanzará un error en caso de no poder hacerse.\n",
    "    4. Implementar el método agregar_dinero para agregar dinero al saldo del usuario.\n",
    "Caso de uso:\n",
    "    1. Crear dos usuarios: \"Alicia\" con saldo inicial de 100 y \"Bob\" con saldo inicial de 50, ambos con cuenta corriente."
   ]
  },
  {
   "cell_type": "code",
   "execution_count": 34,
   "metadata": {},
   "outputs": [
    {
     "name": "stdout",
     "output_type": "stream",
     "text": [
      "Bob ha agregado 30 unidades. Nuevo saldo: 80\n",
      "Bob ha transferido 80 unidades a Alicia.\n",
      "Nuevo saldo de Bob: 0\n",
      "Nuevo saldo de Alicia: 180\n",
      "Alicia ha retirado 50 unidades. Nuevo saldo: 130\n",
      "Usuario: Alicia, Saldo: 130, Cuenta Corriente: Sí\n",
      "Usuario: Bob, Saldo: 0, Cuenta Corriente: Sí\n"
     ]
    }
   ],
   "source": [
    " class UsuarioBanco:\n",
    "    def __init__(self, nombre, saldo, cuenta_corriente):\n",
    "        \"\"\"Inicializa un usuario con su nombre, saldo y si tiene o no cuenta corriente\"\"\"\n",
    "        self.nombre = nombre\n",
    "        self.saldo = saldo\n",
    "        self.cuenta_corriente = cuenta_corriente\n",
    "\n",
    "    def agregar_dinero(self, cantidad):\n",
    "        \"\"\"Agrega dinero al saldo del usuario\"\"\"\n",
    "        if cantidad > 0:\n",
    "            self.saldo += cantidad\n",
    "            print(f\"{self.nombre} ha agregado {cantidad} unidades. Nuevo saldo: {self.saldo}\")\n",
    "        else:\n",
    "            print(\"Error: La cantidad a agregar debe ser positiva\")\n",
    "\n",
    "    def retirar_dinero(self, cantidad):\n",
    "        \"\"\"Retira dinero del saldo del usuario y lanza error si no tiene suficiente saldo\"\"\"\n",
    "        if cantidad > 0 and self.saldo >= cantidad:\n",
    "            self.saldo -= cantidad\n",
    "            print(f\"{self.nombre} ha retirado {cantidad} unidades. Nuevo saldo: {self.saldo}\")\n",
    "        else:\n",
    "            print(f\"Error: {self.nombre} no tiene suficiente saldo para retirar {cantidad} unidades.\")\n",
    "\n",
    "    def transferir_dinero(self, receptor, cantidad):\n",
    "        \"\"\"Transfiere dinero desde el usuario actual a otro usuario.\"\"\"\n",
    "        if cantidad > 0 and self.saldo >= cantidad:\n",
    "            self.saldo -= cantidad\n",
    "            receptor.saldo += cantidad\n",
    "            print(f\"{self.nombre} ha transferido {cantidad} unidades a {receptor.nombre}.\")\n",
    "            print(f\"Nuevo saldo de {self.nombre}: {self.saldo}\")\n",
    "            print(f\"Nuevo saldo de {receptor.nombre}: {receptor.saldo}\")\n",
    "        else:\n",
    "            print(f\"Error: {self.nombre} no tiene suficiente saldo para transferir {cantidad} unidades.\")\n",
    "\n",
    "    def info_usuario(self):\n",
    "        \"\"\"Devuelve información del usuario\"\"\"\n",
    "        return f\"Usuario: {self.nombre}, Saldo: {self.saldo}, Cuenta Corriente: {'Sí' if self.cuenta_corriente else 'No'}\"\n",
    "\n",
    "# 1. Crear dos usuarios: \"Alicia\" con saldo inicial de 100 y \"Bob\" con saldo inicial de 50, ambos con cuenta corriente.\n",
    "alicia = UsuarioBanco(\"Alicia\", 100, True)\n",
    "bob = UsuarioBanco(\"Bob\", 50, True)\n",
    "\n",
    "# 2. Agregar 20 unidades de saldo a \"Bob\"\n",
    "bob.agregar_dinero(30)\n",
    "\n",
    "# 3. Hacer una transferencia de 80 unidades desde \"Bob\" a \"Alicia\"\n",
    "bob.transferir_dinero(alicia, 80)\n",
    "\n",
    "# 4. Retirar 50 unidades de saldo de \"Alicia\"\n",
    "alicia.retirar_dinero(50)\n",
    "\n",
    "# 5. Mostrar información final de ambos usuarios\n",
    "print(alicia.info_usuario())\n",
    "print(bob.info_usuario())"
   ]
  },
  {
   "cell_type": "markdown",
   "metadata": {},
   "source": [
    "37. Crea una función llamada procesar_texto que procesa un texto según la opción especificada: contar_palabras ,reemplazar_palabras ,eliminar_palabra . Estas opciones son otras funciones que tenemos que definir primero y llamar dentro de la función procesar  texto.\n",
    "Código a seguir:\n",
    "    1. Crear una función contar_palabras para contar el número de veces que aparece cada palabra en el texto. Tiene que devolver un diccionario.\n",
    "    2. Crear una función reemplazar_palabras para remplazar una palabra _original del texto por una palabra nueva . Tiene_que devolver el texto con el remplazo de palabras.\n",
    "    3. Crear una función eliminar_palabra para eliminar una palabra del texto. Tiene que devolver el texto con la palabra eliminada.\n",
    "    4. Crear la función procesar_texto que tome un texto, una opción(entre \"contar\", \"reemplazar\", \"eliminar\") y un número de argumentos variable según la opción indicada.\n",
    "Caso de uso:\n",
    "Comprueba el funcionamiento completo de la función procesar text"
   ]
  },
  {
   "cell_type": "code",
   "execution_count": null,
   "metadata": {},
   "outputs": [
    {
     "name": "stdout",
     "output_type": "stream",
     "text": [
      "{'me': 1, 'encantan': 1, 'los': 1, 'perros': 1, 'son': 1, 'mis': 1, 'animales': 1, 'favoritos': 1}\n",
      "Me encantan los caballos, son mis animales favoritos.\n",
      "Me encantan los perros, son mis favoritos.\n"
     ]
    }
   ],
   "source": [
    "def contar_palabras(texto):\n",
    "    \"\"\"Cuenta el número de veces que aparece cada palabra en el texto y devuelve un diccionario\"\"\"\n",
    "      # Convertimos a minúsculas y dividimos en palabras\n",
    "    palabras = texto.lower().split()\n",
    "    # Diccionario para almacenar el conteo de palabras\n",
    "    frecuencia = {} \n",
    "    \n",
    "    for palabra in palabras:\n",
    "        # Eliminamos signos de puntuación\n",
    "        palabra = palabra.strip(\".,!?\") \n",
    "        frecuencia[palabra] = frecuencia.get(palabra, 0) + 1\n",
    "\n",
    "    return frecuencia\n",
    "\n",
    "def reemplazar_palabra(texto, palabra_original, palabra_nueva):\n",
    "    \"\"\"Reemplaza una palabra específica en el texto\"\"\"\n",
    "    return texto.replace(palabra_original, palabra_nueva)\n",
    "\n",
    "def eliminar_palabra(texto, palabra_a_eliminar):\n",
    "    \"\"\"Elimina una palabra específica del texto\"\"\"\n",
    "    palabras = texto.split()\n",
    "    palabras = [palabra for palabra in palabras if palabra != palabra_a_eliminar]  \n",
    "    return \" \".join(palabras)\n",
    "\n",
    "def procesar_texto(texto, opcion, *args):\n",
    "    \"\"\"Procesa un texto según la opción elegida: contar, reemplazar o eliminar\"\"\"\n",
    "    if opcion == \"contar\":\n",
    "        return contar_palabras(texto)\n",
    "    elif opcion == \"reemplazar\":\n",
    "        if len(args) == 2:  # Se requieren dos argumentos (palabra_original, palabra_nueva)\n",
    "            return reemplazar_palabra(texto, args[0], args[1])\n",
    "        else:\n",
    "            return \"Error: Debes proporcionar la palabra a reemplazar y su reemplazo.\"\n",
    "    elif opcion == \"eliminar\":\n",
    "        if len(args) == 1:  # Se requiere un argumento (palabra_a_eliminar)\n",
    "            return eliminar_palabra(texto, args[0])\n",
    "        else:\n",
    "            return \"Error: Debes proporcionar la palabra a eliminar.\"\n",
    "    else:\n",
    "        return \"Error: Opción no válida. Usa 'contar', 'reemplazar' o 'eliminar'.\"\n",
    "\n",
    "texto = \"Me encantan los perros, son mis animales favoritos.\"\n",
    "\n",
    "# Contar palabras\n",
    "print(procesar_texto(texto, \"contar\"))\n",
    "\n",
    "# Reemplazar palabra\n",
    "print(procesar_texto(texto, \"reemplazar\", \"perros\", \"caballos\"))\n",
    "\n",
    "# Eliminar palabra\n",
    "print(procesar_texto(texto, \"eliminar\", \"animales\"))\n"
   ]
  },
  {
   "cell_type": "markdown",
   "metadata": {},
   "source": [
    "38. Genera un programa que nos diga si es de noche, de día o tarde según la hora proporcionada por el usuario."
   ]
  },
  {
   "cell_type": "code",
   "execution_count": 41,
   "metadata": {},
   "outputs": [
    {
     "name": "stdout",
     "output_type": "stream",
     "text": [
      "Es por la mañana\n"
     ]
    }
   ],
   "source": [
    "def noche_dia_tarde (hora):\n",
    "    if not (0<=hora<=23):\n",
    "        return \"Error = No entra dentro del dia\"\n",
    "    if 7 <= hora < 13:\n",
    "        return \"Es por la mañana\"\n",
    "    elif 13 <= hora < 19:\n",
    "        return \"Es por la tarde\"\n",
    "    elif 19 <= hora <= 24 or 0<= hora < 7:\n",
    "        return \"Es por la noche\"\n",
    "\n",
    "print (noche_dia_tarde(8))\n",
    "    "
   ]
  },
  {
   "cell_type": "markdown",
   "metadata": {},
   "source": [
    "39. Escribe un programa que determine qué calificación en texto tiene un alumno en base a su calificación numérica.\n",
    "Las reglas de calificación son:\n",
    "- 0 - 69 insuficiente\n",
    "- 70 - 79 bien\n",
    "- 80 - 89 muy bien\n",
    "- 90 - 100 excelente"
   ]
  },
  {
   "cell_type": "code",
   "execution_count": 42,
   "metadata": {},
   "outputs": [
    {
     "name": "stdout",
     "output_type": "stream",
     "text": [
      "BIEN\n"
     ]
    }
   ],
   "source": [
    "def calificacion_texto(calificacion):\n",
    "    if not (0<=calificacion<=100):\n",
    "        return \"Error: no hay calificación fuera del rango 0 y 100\"\n",
    "    if 0<= calificacion<=69:\n",
    "        return \"INSUFICIENTE\"\n",
    "    elif 70<=calificacion<=79:\n",
    "        return \"BIEN\"\n",
    "    elif 80<=calificacion<=89:\n",
    "        return \"MUY BIEN\"\n",
    "    elif 90<=calificacion<=100:\n",
    "        return \"EXCELENTE\"\n",
    "   \n",
    "print(calificacion_texto(70))"
   ]
  },
  {
   "cell_type": "markdown",
   "metadata": {},
   "source": [
    "40. Escribe una función que tome dos parámetros: figura (una cadena que puede ser \"rectangulo\" \"circulo\" o\n",
    "\"triangulo\" ) y datos (una tupla con los datos necesarios para calcular el área de la figura).\n"
   ]
  },
  {
   "cell_type": "code",
   "execution_count": 43,
   "metadata": {},
   "outputs": [
    {
     "name": "stdout",
     "output_type": "stream",
     "text": [
      "Área del rectángulo: 50\n",
      "Área del triángulo: 16.0\n",
      "Área del círculo: 28.27\n"
     ]
    }
   ],
   "source": [
    "# Importamos math para poder usar π en el cálculo del área del círculo\n",
    "import math  \n",
    "\n",
    "def calcular_area(figura, datos):\n",
    "    # Convertimos a minúsculas para evitar errores de mayúsculas\n",
    "    figura = figura.lower()  \n",
    "    if figura == \"rectangulo\":\n",
    "        if len(datos) == 2:  # Un rectángulo necesita base y altura\n",
    "            base, altura = datos\n",
    "            return f\"Área del rectángulo: {base * altura}\"\n",
    "        else:\n",
    "            return \"Error: Un rectángulo necesita base y altura\"\n",
    "    \n",
    "    elif figura == \"triangulo\":\n",
    "        if len(datos) == 2:  # Un triángulo necesita base y altura\n",
    "            base, altura = datos\n",
    "            return f\"Área del triángulo: {0.5 * base * altura}\"\n",
    "        else:\n",
    "            return \"Error: Un triángulo necesita base y altura\"\n",
    "    \n",
    "    elif figura == \"circulo\":\n",
    "        if len(datos) == 1:  # Un círculo solo necesita el radio\n",
    "            radio = datos[0]\n",
    "            return f\"Área del círculo: {math.pi * radio ** 2:.2f}\"\n",
    "        else:\n",
    "            return \"Error: Un círculo necesita solo el radio\"\n",
    "    \n",
    "    else:\n",
    "        return \"Error: Figura no reconocida.\"\n",
    "        \n",
    "print(calcular_area(\"rectangulo\", (5, 10)))  # Output: Área del rectángulo: 50\n",
    "print(calcular_area(\"triangulo\", (4, 8)))    # Output: Área del triángulo: 16.0\n",
    "print(calcular_area(\"circulo\", (3,)))        # Output: Área del círculo: 28.27\n"
   ]
  },
  {
   "cell_type": "markdown",
   "metadata": {},
   "source": [
    "41. En este ejercicio, se te pedirá que escribas un programa en Python que utilice condicionales para determinar el\n",
    "monto final de una compra en una tienda en línea, después de aplicar un descuento. El programa debe hacer lo\n",
    "siguiente:\n",
    "- 1. Solicita al usuario que ingrese el precio original de un artículo.\n",
    "- 2. Pregunta al usuario si tiene un cupón de descuento (respuesta sí o no).\n",
    "- 3. Si el usuario responde que sí, solicita que ingrese el valor del cupón de descuento.\n",
    "- 4. Aplica el descuento al precio original del artículo, siempre y cuando el valor del cupón sea válido (es decir, mayor\n",
    "a cero). Por ejemplo, descuento de 15€.\n",
    "- 5. Muestra el precio final de la compra, teniendo en cuenta el descuento aplicado o sin él.\n",
    "- 6. Recuerda utilizar estructuras de control de flujo como if, elif y else para llevar a cabo estas acciones en tu programa de Python."
   ]
  },
  {
   "cell_type": "code",
   "execution_count": 44,
   "metadata": {},
   "outputs": [
    {
     "ename": "ValueError",
     "evalue": "could not convert string to float: ''",
     "output_type": "error",
     "traceback": [
      "\u001b[0;31m---------------------------------------------------------------------------\u001b[0m",
      "\u001b[0;31mValueError\u001b[0m                                Traceback (most recent call last)",
      "Cell \u001b[0;32mIn[44], line 2\u001b[0m\n\u001b[1;32m      1\u001b[0m \u001b[38;5;66;03m# Pedimos el precio original\u001b[39;00m\n\u001b[0;32m----> 2\u001b[0m precio_original \u001b[38;5;241m=\u001b[39m \u001b[38;5;28;43mfloat\u001b[39;49m\u001b[43m(\u001b[49m\u001b[38;5;28;43minput\u001b[39;49m\u001b[43m(\u001b[49m\u001b[38;5;124;43m\"\u001b[39;49m\u001b[38;5;124;43mIntroduce el precio original del artículo: \u001b[39;49m\u001b[38;5;124;43m\"\u001b[39;49m\u001b[43m)\u001b[49m\u001b[43m)\u001b[49m\n\u001b[1;32m      4\u001b[0m \u001b[38;5;66;03m# Preguntamos si tiene cupón\u001b[39;00m\n\u001b[1;32m      5\u001b[0m cupon \u001b[38;5;241m=\u001b[39m \u001b[38;5;28minput\u001b[39m(\u001b[38;5;124m\"\u001b[39m\u001b[38;5;124m¿Tienes un cupón de descuento? (sí/no): \u001b[39m\u001b[38;5;124m\"\u001b[39m)\u001b[38;5;241m.\u001b[39mlower()\n",
      "\u001b[0;31mValueError\u001b[0m: could not convert string to float: ''"
     ]
    }
   ],
   "source": [
    "# Pedimos el precio original\n",
    "precio_original = float(input(\"Introduce el precio original del artículo: \"))\n",
    "\n",
    "# Preguntamos si tiene cupón\n",
    "cupon = input(\"¿Tienes un cupón de descuento? (sí/no): \").lower()\n",
    "\n",
    "if cupon == \"si\":\n",
    "    # Pedimos el valor del cupón\n",
    "    descuento = float(input(\"El valor del cupón de descuento es: \"))\n",
    "\n",
    "    if descuento > 0:\n",
    "        precio_final = precio_original - descuento\n",
    "        # Evitar precio negativo\n",
    "        if precio_final < 0:\n",
    "            precio_final = 0\n",
    "        print(\"El precio final es:\", precio_final)\n",
    "    else:\n",
    "        print(\"El precio final es:\", precio_original)\n",
    "\n",
    "elif cupon == \"no\":\n",
    "    print(\"El precio final es:\", precio_original)\n",
    "\n",
    "else:\n",
    "    print(\"Debes escribir 'si' o 'no'.\")\n"
   ]
  }
 ],
 "metadata": {
  "kernelspec": {
   "display_name": "Python 3",
   "language": "python",
   "name": "python3"
  },
  "language_info": {
   "codemirror_mode": {
    "name": "ipython",
    "version": 3
   },
   "file_extension": ".py",
   "mimetype": "text/x-python",
   "name": "python",
   "nbconvert_exporter": "python",
   "pygments_lexer": "ipython3",
   "version": "3.13.0"
  }
 },
 "nbformat": 4,
 "nbformat_minor": 2
}

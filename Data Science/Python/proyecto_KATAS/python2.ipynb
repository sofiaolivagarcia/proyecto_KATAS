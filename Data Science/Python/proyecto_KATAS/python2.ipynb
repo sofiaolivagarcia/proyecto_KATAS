{
 "cells": [
  {
   "cell_type": "markdown",
   "metadata": {},
   "source": [
    "#PARTE 2 PROYECTO LÓGICA: Katas de Python (ejercicios 7 al )"
   ]
  },
  {
   "cell_type": "markdown",
   "metadata": {},
   "source": [
    "##8. Escribe un programa que pida al usuario dos números e intente dividirlos. Si el usuario ingresa un valor no numérico\n",
    "o intenta dividir por cero, maneja esas excepciones de manera adecuada. Asegúrate de mostrar un mensaje\n",
    "indicando si la división fue exitosa o no."
   ]
  },
  {
   "cell_type": "code",
   "execution_count": 1,
   "metadata": {},
   "outputs": [
    {
     "name": "stdout",
     "output_type": "stream",
     "text": [
      "La división fue exitosa. El resultado es: 5.0\n"
     ]
    }
   ],
   "source": [
    "def dividir_numeros():\n",
    "    try:\n",
    "        # Usa valores predefinidos en lugar de input()\n",
    "        num1 = 10  # Cambia por el valor que quieras probar\n",
    "        num2 = 2   # Cambia por el valor que quieras probar\n",
    "\n",
    "        # Intentar realizar la división\n",
    "        resultado = num1 / num2\n",
    "    except ValueError:\n",
    "        print(\"Error: Por favor, introduce valores numéricos válidos.\")\n",
    "    except ZeroDivisionError:\n",
    "        print(\"Error: No se puede dividir entre cero.\")\n",
    "    else:\n",
    "        print(f\"La división fue exitosa. El resultado es: {resultado}\")\n",
    "\n",
    "# Llamar a la función\n",
    "dividir_numeros()"
   ]
  },
  {
   "cell_type": "code",
   "execution_count": 2,
   "metadata": {},
   "outputs": [
    {
     "name": "stdout",
     "output_type": "stream",
     "text": [
      "[4, 2, 3, 5, 2, 7]\n"
     ]
    }
   ],
   "source": [
    "def longitudes_palabras(frase):\n",
    "    # Dividir la frase en palabras\n",
    "    palabras = frase.split()\n",
    "    # Usar map() para calcular la longitud de cada palabra\n",
    "    longitudes = list(map(len, palabras))\n",
    "    return longitudes\n",
    "\n",
    "# Ejemplo de uso\n",
    "frase = \"Esta es una frase de ejemplo\"\n",
    "resultado = longitudes_palabras(frase)\n",
    "print(resultado)  # Output: [4, 2, 3, 5, 2, 7]\n"
   ]
  }
 ],
 "metadata": {
  "kernelspec": {
   "display_name": "Python 3",
   "language": "python",
   "name": "python3"
  },
  "language_info": {
   "codemirror_mode": {
    "name": "ipython",
    "version": 3
   },
   "file_extension": ".py",
   "mimetype": "text/x-python",
   "name": "python",
   "nbconvert_exporter": "python",
   "pygments_lexer": "ipython3",
   "version": "3.13.0"
  }
 },
 "nbformat": 4,
 "nbformat_minor": 2
}
